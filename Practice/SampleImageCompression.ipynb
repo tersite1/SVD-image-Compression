{
 "cells": [
  {
   "cell_type": "markdown",
   "id": "efac43c7-cfa5-4aed-a40f-b7b27245b575",
   "metadata": {},
   "source": [
    "# * GNSS/GPS Homework 5\n",
    "#  SVD (Singular Value Decomposition and Image Reduction) "
   ]
  },
  {
   "cell_type": "code",
   "execution_count": null,
   "id": "611b1918-8730-4441-a772-be680ef8ea61",
   "metadata": {},
   "outputs": [],
   "source": [
    "from matplotlib.image import imread\n",
    "import matplotlib.pyplot as plt\n",
    "import numpy as np\n",
    "\n",
    "# 이미지 파일을 읽고 numpy 배열 형태로 변환\n",
    "A = imread('yonsei.jpeg')\n",
    "\n",
    "# 각 RGB 채널에 대해 SVD를 수행하기 전에 시각화를 위한 figure 설정\n",
    "plt.figure(figsize=(16, 8))\n",
    "\n",
    "U,S,VT = np.linalg.svd(A,full_matrices=False)\n",
    "# 빨간색 채널에 대한 SVD 수행\n",
    "U_r, S_r, VT_r = np.linalg.svd(A[:, :, 0], full_matrices=False)\n",
    "# 초록색 채널에 대한 SVD 수행\n",
    "U_g, S_g, VT_g = np.linalg.svd(A[:, :, 1], full_matrices=False)\n",
    "# 파란색 채널에 대한 SVD 수행\n",
    "U_b, S_b, VT_b = np.linalg.svd(A[:, :, 2], full_matrices=False)"
   ]
  },
  {
   "cell_type": "markdown",
   "id": "33d855dd-e76f-485a-a3da-7e5df9f506b1",
   "metadata": {},
   "source": [
    "### 특이값 분해를 위한 이미지 재구성 시 반복 작업을 줄이기 위한 함수 정의"
   ]
  },
  {
   "cell_type": "code",
   "execution_count": null,
   "id": "c9132454-39eb-4fa3-9b80-0f7e729970a5",
   "metadata": {},
   "outputs": [],
   "source": [
    "# 주어진 수의 특이값을 사용하여 채널을 재구성하는 함수\n",
    "def reconstruct_channel(U, S, VT, r):\n",
    "    S_reduced = np.diag(S[:r])  # 대각 행렬로 변환\n",
    "    return U[:, :r] @ S_reduced @ VT[:r, :]  # 재구성된 채널 반환"
   ]
  },
  {
   "cell_type": "markdown",
   "id": "d183521b-68b8-418d-baa6-65ea6e14a873",
   "metadata": {},
   "source": [
    "#### r값에 따른 압축률을 확인하기 위해 시각화"
   ]
  },
  {
   "cell_type": "code",
   "execution_count": null,
   "id": "f75ce151-d129-4d22-a5a1-2831a6f215bb",
   "metadata": {},
   "outputs": [],
   "source": [
    "\n",
    "\n",
    "plt.figure(1,dpi = 1000)\n",
    "\n",
    "plt.semilogy(np.diag(S_r))\n",
    "plt.semilogy(np.diag(S_g))\n",
    "plt.semilogy(np.diag(S_b))\n",
    "plt.title('Singular Values')\n",
    "plt.show()\n",
    "\n"
   ]
  },
  {
   "cell_type": "markdown",
   "id": "15d7b89b-7929-4ad2-b21f-ea156db48273",
   "metadata": {},
   "source": [
    "\n",
    "# <font color=red>R 채널에 대한 특이값 분해 시 r 값에 따른 채널 별 시각화</font>"
   ]
  },
  {
   "cell_type": "code",
   "execution_count": null,
   "id": "ca0af2fc-73ca-4dcf-b03b-d78931d22088",
   "metadata": {},
   "outputs": [],
   "source": [
    "# 다양한 'r' 값에 대해 빨간색 채널의 근사 이미지를 생성하고 시각화\n",
    "for i in (10, 100, 600, 700):\n",
    "    # 빨간색 채널의 근사화 실행\n",
    "    S_reduced = np.diag(S_r[:i])  # 대각 행렬 생성\n",
    "    Rapprox = U_r[:, :i] @ S_reduced @ VT_r[:i, :]  # 근사 이미지 생성\n",
    "\n",
    "    # 빨간색 채널 이외를 0으로 설정하여 새로운 RGB 이미지 생성\n",
    "    approx_img = np.zeros_like(A)\n",
    "    approx_img[:, :, 0] = Rapprox  # 빨간색 채널에만 근사값 할당\n",
    "\n",
    "    plt.figure(dpi = 1000)  # 새 figure 생성\n",
    "    plt.imshow(np.clip(approx_img, 0, 255).astype('uint8'))  # RGB 색상으로 이미지 표시\n",
    "    plt.axis('off')  # 축 표시 제거\n",
    "    plt.title(f'Red Channel, r = {i}')  # 제목 설정\n",
    "    plt.show()  # 이미지 표시"
   ]
  },
  {
   "cell_type": "markdown",
   "id": "ec8b81e1-0d31-41be-851d-ad3e3c638ab8",
   "metadata": {},
   "source": [
    "\n",
    "# <font color=green>G 채널에 대한 특이값 분해 시 r 값에 따른 채널 별 시각화</font>"
   ]
  },
  {
   "cell_type": "code",
   "execution_count": null,
   "id": "eff39b09-5d98-4fc0-87d1-0a73d87aaf5c",
   "metadata": {},
   "outputs": [],
   "source": [
    "# 다양한 'r' 값에 대해 초록색 채널의 근사 이미지를 생성하고 시각화\n",
    "for i in (10, 100, 600, 700):\n",
    "    # 초록색 채널의 근사화 실행\n",
    "    S_reduced = np.diag(S_g[:i])  # 대각 행렬 생성\n",
    "    Gapprox = U_g[:, :i] @ S_reduced @ VT_g[:i, :]  # 근사 이미지 생성\n",
    "\n",
    "    # 초록색 채널 이외를 0으로 설정하여 새로운 RGB 이미지 생성\n",
    "    approx_img = np.zeros_like(A)\n",
    "    approx_img[:, :, 1] = Gapprox  # 초록색 채널에만 근사값 할당\n",
    "\n",
    "    plt.figure(dpi = 1000)  # 새 figure 생성\n",
    "    plt.imshow(np.clip(approx_img, 0, 255).astype('uint8'))  # RGB 색상으로 이미지 표시\n",
    "    plt.axis('off')  # 축 표시 제거\n",
    "    plt.title(f'Green Channel, r = {i}')  # 제목 설정\n",
    "    plt.show()  # 이미지 표시"
   ]
  },
  {
   "cell_type": "markdown",
   "id": "d55348c5-946e-4329-ad60-069643a1097c",
   "metadata": {},
   "source": [
    "\n",
    "# <font color=blue>B 채널에 대한 특이값 분해 시 r 값에 따른 채널 별 시각화</font>"
   ]
  },
  {
   "cell_type": "code",
   "execution_count": null,
   "id": "0ec2a4fd-06f3-434b-974c-a04f4fd3b93e",
   "metadata": {},
   "outputs": [],
   "source": [
    "# 다양한 'r' 값에 대해 파란색 채널의 근사 이미지를 생성하고 시각화\n",
    "for i in (10, 100, 600, 700):\n",
    "    # 파란색 채널의 근사화 실행\n",
    "    B_reduced = np.diag(S_b[:i])  # 대각 행렬 생성\n",
    "    Bapprox = U_b[:, :i] @ B_reduced @ VT_b[:i, :]  # 근사 이미지 생성\n",
    "\n",
    "    # 파란색 채널 이외를 0으로 설정하여 새로운 RGB 이미지 생성\n",
    "    approx_img = np.zeros_like(A)\n",
    "    approx_img[:, :, 2] = Bapprox  # 파란색 채널에만 근사값 할당\n",
    "\n",
    "    plt.figure(dpi = 1000)  # 새 figure 생성\n",
    "    plt.imshow(np.clip(approx_img, 0, 255).astype('uint8'))  # RGB 색상으로 이미지 표시\n",
    "    plt.axis('off')  # 축 표시 제거\n",
    "    plt.title(f'Blue Channel, r = {i}')  # 제목 설정\n",
    "    plt.show()  # 이미지 표시"
   ]
  },
  {
   "cell_type": "markdown",
   "id": "28114b80-0717-4fa4-81b8-722357262b30",
   "metadata": {},
   "source": [
    "# 채널 별 분해된 R,G,B 값을 다시 한 배열로 모아 r값에 따른 이미지 재구성 "
   ]
  },
  {
   "cell_type": "code",
   "execution_count": null,
   "id": "56aeaa21-d2b9-48d9-bf48-e331f1602abe",
   "metadata": {},
   "outputs": [],
   "source": [
    "# r_values는 사용할 특이값의 개수를 정의한 배열입니다.\n",
    "r_values = [10, 100, 600, 700]\n",
    "for i, r in enumerate(r_values, start=1):\n",
    "    # 각 채널에 대해 r 개의 특이값으로 이미지를 재구성합니다.\n",
    "    Rapprox = reconstruct_channel(U_r, S_r, VT_r, r)  # 빨간색 채널 재구성\n",
    "    Gapprox = reconstruct_channel(U_g, S_g, VT_g, r)  # 초록색 채널 재구성\n",
    "    Bapprox = reconstruct_channel(U_b, S_b, VT_b, r)  # 파란색 채널 재구성\n",
    "    \n",
    "    # np.stack을 이용하여 3개의 근사 채널을 합쳐 하나의 RGB 이미지로 만듬\n",
    "    img_approx = np.stack((Rapprox, Gapprox, Bapprox), axis=2)\n",
    "    \n",
    "    # 픽셀 범위 고정\n",
    "    img_approx = np.clip(img_approx, 0, 255).astype('uint8')\n",
    "    \n",
    "    # 이미지 출력\n",
    "    plt.figure(i, dpi = 1000)  # 새로운 그림(figure)을 만듭니다. i는 그림 번호입니다.\n",
    "    plt.imshow(img_approx)  \n",
    "    plt.axis('off')  \n",
    "    plt.title(f'r = {r}')  \n",
    "    plt.show()  \n"
   ]
  },
  {
   "cell_type": "markdown",
   "id": "a3c7b3db-9285-45fa-9f09-ed820973bcd8",
   "metadata": {},
   "source": [
    "# r값에 따른 이미지 압축 시 데이터 크기 계산"
   ]
  },
  {
   "cell_type": "code",
   "execution_count": null,
   "id": "b5933f96-a73b-45a2-b53a-c37ff81b010c",
   "metadata": {},
   "outputs": [],
   "source": [
    "# r 값 배열 정의\n",
    "r_values = [10, 100, 600, 700]\n",
    "\n",
    "# 데이터 크기 계산을 위한 U와 VT의 가정된 크기\n",
    "U_r_shape = (724, 1086)  # U의 형태, 이미지가 724 x 1086 픽셀임.\n",
    "VT_r_shape = (1086, 724)  # VT의 형태\n",
    "\n",
    "# 데이터 크기 계산\n",
    "data_sizes = []\n",
    "for r in r_values:\n",
    "    # U와 VT는 r에 따라 크기가 변함. S는 r x r 크기의 대각행렬.\n",
    "    U_size = U_r_shape[0] * r  # U의 사용된 크기\n",
    "    VT_size = VT_r_shape[0] * r  # VT의 사용된 크기\n",
    "    S_size = r * r  # S가 대각행렬로 변환된 크기\n",
    "    \n",
    "    # 총 데이터 크기 계산 (단위: 개수)\n",
    "    total_size = U_size + VT_size + S_size\n",
    "    \n",
    "    # 결과 저장\n",
    "    data_sizes.append(total_size)\n",
    "\n",
    "# 결과 출력\n",
    "for i, j in zip(r_values, data_sizes):\n",
    "    print(f\"r 값이 {i} 일 때 데이터 크기: {j}\")\n"
   ]
  },
  {
   "cell_type": "markdown",
   "id": "63d66d91-67cc-4ac4-a581-0635e2dfad10",
   "metadata": {},
   "source": [
    "# r 값에 따른 데이터 크기 시각화를 위한 부분, 10, 100, 600, 700 이 아닌 전체 r 범위 부분에 대해 수행"
   ]
  },
  {
   "cell_type": "code",
   "execution_count": null,
   "id": "839993fc-d843-4799-955e-14d1ce25dcfa",
   "metadata": {},
   "outputs": [],
   "source": [
    "\n",
    "\n",
    "\n",
    "U_r_shape = (724, 1086)  # U의 형태\n",
    "VT_r_shape = (1086, 724)  # VT의 형태\n",
    "\n",
    "# k 배열을 np.arange를 사용해 생성\n",
    "k = np.arange(1, 700, 30)\n",
    "\n",
    "# 데이터 크기 계산\n",
    "data_sizes = []\n",
    "for r in k:\n",
    "    U_size = U_r_shape[0] * r  # U의 사용된 크기\n",
    "    VT_size = VT_r_shape[0] * r  # VT의 사용된 크기\n",
    "    S_size = r * r  # S가 대각행렬로 변환된 크기\n",
    "    \n",
    "    # 총 데이터 크기 계산 (단위: 개수)\n",
    "    total_size = U_size + VT_size + S_size\n",
    "    \n",
    "    # 결과 저장\n",
    "    data_sizes.append(total_size)\n",
    "\n"
   ]
  },
  {
   "cell_type": "markdown",
   "id": "6c53f6dd-4981-48dc-9b79-64f3fde2c0cb",
   "metadata": {},
   "source": [
    "# r 값에 따른 데이터 크기 시각화"
   ]
  },
  {
   "cell_type": "code",
   "execution_count": null,
   "id": "597af1d0-8acf-4298-a078-17da91b5c1e2",
   "metadata": {},
   "outputs": [],
   "source": [
    "plt.figure(3, dpi = 1000)\n",
    "\n",
    "x = k\n",
    "y = data_sizes\n",
    "plt.plot(x,y,'o')\n",
    "plt.yscale('log')\n",
    "plt.show"
   ]
  },
  {
   "cell_type": "code",
   "execution_count": null,
   "id": "0d335d90-7ca7-4359-8afd-807e4da80676",
   "metadata": {},
   "outputs": [],
   "source": []
  }
 ],
 "metadata": {
  "kernelspec": {
   "display_name": "Python 3 (ipykernel)",
   "language": "python",
   "name": "python3"
  },
  "language_info": {
   "codemirror_mode": {
    "name": "ipython",
    "version": 3
   },
   "file_extension": ".py",
   "mimetype": "text/x-python",
   "name": "python",
   "nbconvert_exporter": "python",
   "pygments_lexer": "ipython3",
   "version": "3.11.7"
  }
 },
 "nbformat": 4,
 "nbformat_minor": 5
}
